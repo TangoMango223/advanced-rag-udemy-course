{
 "cells": [
  {
   "cell_type": "markdown",
   "metadata": {},
   "source": [
    "# Advanced RAG Course (UDEMY) Course Notes"
   ]
  },
  {
   "cell_type": "markdown",
   "metadata": {},
   "source": [
    "From what you've learned in your course, there are three major components of RAG:\n",
    "1. Ingestion\n",
    "2. Retrieval\n",
    "3. Synthesis with LLM\n",
    "\n",
    "By definition, RAG is essentially a pipeline that takes in raw text data (usually YOUR knowledge base), processes it, and then outputs a synthesized response.\n",
    "\n",
    "It informs and makes your LLM response more accurate and relevant!\n",
    "\n",
    "So far, all the RAG you've been doing has been known as \"Naive RAG\".\n"
   ]
  },
  {
   "cell_type": "markdown",
   "metadata": {},
   "source": [
    "# Problems with Naive RAG:"
   ]
  },
  {
   "cell_type": "markdown",
   "metadata": {},
   "source": [
    "1. Limited Contextual Understanding: i.e. two topics - polar bears and climate change - it will struggle to find relevant chunks that talk about both topics.\n",
    "* Why - it usually focuses on keyword matching (by default), rather than the actual content of the text.\n",
    "\n",
    "2. Inconsistent quality and relevant of chunks retrieved\n",
    "\n",
    "3. Poor integration of retrieval and generation:\n",
    "* Retriever and generator are usually operating in silos and independent\n",
    "* Generative Model doesn't fully leverage the retrieved information\n",
    "* For example, ignore some of the retrieved context information sometimes!\n",
    "\n",
    "4. Inefficiencies of large scale datasets - inefficient retrieval and slow performance\n",
    "* knowledge base - i.e. HOURS to look for documents!\n",
    "\n",
    "5. Lack of robust and adaptability process\n",
    "* Not adapting well with user needs without intervention\n",
    "* Naiive RAG, might address some components of the query, but not the entire query\n"
   ]
  },
  {
   "cell_type": "markdown",
   "metadata": {},
   "source": []
  }
 ],
 "metadata": {
  "language_info": {
   "name": "python"
  }
 },
 "nbformat": 4,
 "nbformat_minor": 2
}
